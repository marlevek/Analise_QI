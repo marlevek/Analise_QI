{
 "cells": [
  {
   "attachments": {},
   "cell_type": "markdown",
   "metadata": {},
   "source": [
    "<h5>Esta análise tem como finalidade mostrar gráficos com rendas e QI de 70 países</h5>\n",
    "<h5>Fontes: (consultada em 08/06/2023)</h5>\n",
    "<ul>\n",
    "<li>https://www.dadosmundiais.com/europa/malta/index.php</li>\n",
    "<li>https://www.dadosmundiais.com/renda-media.php</li>\n",
    "</ul>\n"
   ]
  },
  {
   "cell_type": "code",
   "execution_count": 1,
   "metadata": {},
   "outputs": [],
   "source": [
    "# importando as bibliotecas que serão usadas\n",
    "import pandas as pd\n",
    "import matplotlib.pyplot as plt\n",
    "import seaborn as sns\n",
    "import plotly.express as px"
   ]
  },
  {
   "cell_type": "code",
   "execution_count": 2,
   "metadata": {},
   "outputs": [
    {
     "data": {
      "text/html": [
       "<div>\n",
       "<style scoped>\n",
       "    .dataframe tbody tr th:only-of-type {\n",
       "        vertical-align: middle;\n",
       "    }\n",
       "\n",
       "    .dataframe tbody tr th {\n",
       "        vertical-align: top;\n",
       "    }\n",
       "\n",
       "    .dataframe thead th {\n",
       "        text-align: right;\n",
       "    }\n",
       "</style>\n",
       "<table border=\"1\" class=\"dataframe\">\n",
       "  <thead>\n",
       "    <tr style=\"text-align: right;\">\n",
       "      <th></th>\n",
       "      <th>INDICE</th>\n",
       "      <th>PAIS</th>\n",
       "      <th>RENDA_ANUAL(USD)</th>\n",
       "      <th>QI</th>\n",
       "    </tr>\n",
       "  </thead>\n",
       "  <tbody>\n",
       "    <tr>\n",
       "      <th>0</th>\n",
       "      <td>1</td>\n",
       "      <td>Suíça</td>\n",
       "      <td>90600</td>\n",
       "      <td>100</td>\n",
       "    </tr>\n",
       "    <tr>\n",
       "      <th>1</th>\n",
       "      <td>2</td>\n",
       "      <td>Luxemburgo</td>\n",
       "      <td>88190</td>\n",
       "      <td>100</td>\n",
       "    </tr>\n",
       "    <tr>\n",
       "      <th>2</th>\n",
       "      <td>3</td>\n",
       "      <td>Noruega</td>\n",
       "      <td>83880</td>\n",
       "      <td>98</td>\n",
       "    </tr>\n",
       "    <tr>\n",
       "      <th>3</th>\n",
       "      <td>4</td>\n",
       "      <td>Irlanda</td>\n",
       "      <td>76110</td>\n",
       "      <td>95</td>\n",
       "    </tr>\n",
       "    <tr>\n",
       "      <th>4</th>\n",
       "      <td>5</td>\n",
       "      <td>USA</td>\n",
       "      <td>70930</td>\n",
       "      <td>97</td>\n",
       "    </tr>\n",
       "  </tbody>\n",
       "</table>\n",
       "</div>"
      ],
      "text/plain": [
       "   INDICE        PAIS  RENDA_ANUAL(USD)   QI\n",
       "0       1       Suíça             90600  100\n",
       "1       2  Luxemburgo             88190  100\n",
       "2       3     Noruega             83880   98\n",
       "3       4     Irlanda             76110   95\n",
       "4       5         USA             70930   97"
      ]
     },
     "execution_count": 2,
     "metadata": {},
     "output_type": "execute_result"
    }
   ],
   "source": [
    "# carregando a base de dados e visualizando os 5 primeiros registros\n",
    "base_qi = pd.read_excel('qi_paises.xlsx')\n",
    "base_qi.head()"
   ]
  },
  {
   "cell_type": "code",
   "execution_count": 3,
   "metadata": {},
   "outputs": [
    {
     "data": {
      "text/html": [
       "<div>\n",
       "<style scoped>\n",
       "    .dataframe tbody tr th:only-of-type {\n",
       "        vertical-align: middle;\n",
       "    }\n",
       "\n",
       "    .dataframe tbody tr th {\n",
       "        vertical-align: top;\n",
       "    }\n",
       "\n",
       "    .dataframe thead th {\n",
       "        text-align: right;\n",
       "    }\n",
       "</style>\n",
       "<table border=\"1\" class=\"dataframe\">\n",
       "  <thead>\n",
       "    <tr style=\"text-align: right;\">\n",
       "      <th></th>\n",
       "      <th>PAIS</th>\n",
       "      <th>RENDA_ANUAL(USD)</th>\n",
       "      <th>QI</th>\n",
       "    </tr>\n",
       "  </thead>\n",
       "  <tbody>\n",
       "    <tr>\n",
       "      <th>0</th>\n",
       "      <td>Suíça</td>\n",
       "      <td>90600</td>\n",
       "      <td>100</td>\n",
       "    </tr>\n",
       "    <tr>\n",
       "      <th>1</th>\n",
       "      <td>Luxemburgo</td>\n",
       "      <td>88190</td>\n",
       "      <td>100</td>\n",
       "    </tr>\n",
       "    <tr>\n",
       "      <th>2</th>\n",
       "      <td>Noruega</td>\n",
       "      <td>83880</td>\n",
       "      <td>98</td>\n",
       "    </tr>\n",
       "    <tr>\n",
       "      <th>3</th>\n",
       "      <td>Irlanda</td>\n",
       "      <td>76110</td>\n",
       "      <td>95</td>\n",
       "    </tr>\n",
       "    <tr>\n",
       "      <th>4</th>\n",
       "      <td>USA</td>\n",
       "      <td>70930</td>\n",
       "      <td>97</td>\n",
       "    </tr>\n",
       "  </tbody>\n",
       "</table>\n",
       "</div>"
      ],
      "text/plain": [
       "         PAIS  RENDA_ANUAL(USD)   QI\n",
       "0       Suíça             90600  100\n",
       "1  Luxemburgo             88190  100\n",
       "2     Noruega             83880   98\n",
       "3     Irlanda             76110   95\n",
       "4         USA             70930   97"
      ]
     },
     "execution_count": 3,
     "metadata": {},
     "output_type": "execute_result"
    }
   ],
   "source": [
    "# Excluindo a coluna INDICE, que não terá utilidade\n",
    "base_qi = base_qi.drop(['INDICE'], axis=1)\n",
    "base_qi.head()"
   ]
  },
  {
   "cell_type": "code",
   "execution_count": 4,
   "metadata": {},
   "outputs": [
    {
     "data": {
      "text/plain": [
       "<bound method DataFrame.info of                  PAIS  RENDA_ANUAL(USD)   QI\n",
       "0               Suíça             90600  100\n",
       "1          Luxemburgo             88190  100\n",
       "2             Noruega             83880   98\n",
       "3             Irlanda             76110   95\n",
       "4                 USA             70930   97\n",
       "..                ...               ...  ...\n",
       "65  Congo (dem. rep.)               550   64\n",
       "66         Moçambique               480   71\n",
       "67        Afeganistão               390   81\n",
       "68              Malta             30760   91\n",
       "69            Croácia             17630   95\n",
       "\n",
       "[70 rows x 3 columns]>"
      ]
     },
     "execution_count": 4,
     "metadata": {},
     "output_type": "execute_result"
    }
   ],
   "source": [
    "# Informações sobre a base de dados\n",
    "base_qi.info"
   ]
  },
  {
   "cell_type": "code",
   "execution_count": 5,
   "metadata": {},
   "outputs": [
    {
     "data": {
      "text/html": [
       "<div>\n",
       "<style scoped>\n",
       "    .dataframe tbody tr th:only-of-type {\n",
       "        vertical-align: middle;\n",
       "    }\n",
       "\n",
       "    .dataframe tbody tr th {\n",
       "        vertical-align: top;\n",
       "    }\n",
       "\n",
       "    .dataframe thead th {\n",
       "        text-align: right;\n",
       "    }\n",
       "</style>\n",
       "<table border=\"1\" class=\"dataframe\">\n",
       "  <thead>\n",
       "    <tr style=\"text-align: right;\">\n",
       "      <th></th>\n",
       "      <th>RENDA_ANUAL(USD)</th>\n",
       "      <th>QI</th>\n",
       "    </tr>\n",
       "  </thead>\n",
       "  <tbody>\n",
       "    <tr>\n",
       "      <th>count</th>\n",
       "      <td>70.000000</td>\n",
       "      <td>70.000000</td>\n",
       "    </tr>\n",
       "    <tr>\n",
       "      <th>mean</th>\n",
       "      <td>25978.285714</td>\n",
       "      <td>88.242857</td>\n",
       "    </tr>\n",
       "    <tr>\n",
       "      <th>std</th>\n",
       "      <td>25709.529557</td>\n",
       "      <td>12.292847</td>\n",
       "    </tr>\n",
       "    <tr>\n",
       "      <th>min</th>\n",
       "      <td>390.000000</td>\n",
       "      <td>56.000000</td>\n",
       "    </tr>\n",
       "    <tr>\n",
       "      <th>25%</th>\n",
       "      <td>4135.000000</td>\n",
       "      <td>81.000000</td>\n",
       "    </tr>\n",
       "    <tr>\n",
       "      <th>50%</th>\n",
       "      <td>14470.000000</td>\n",
       "      <td>91.000000</td>\n",
       "    </tr>\n",
       "    <tr>\n",
       "      <th>75%</th>\n",
       "      <td>46145.000000</td>\n",
       "      <td>98.000000</td>\n",
       "    </tr>\n",
       "    <tr>\n",
       "      <th>max</th>\n",
       "      <td>90600.000000</td>\n",
       "      <td>106.000000</td>\n",
       "    </tr>\n",
       "  </tbody>\n",
       "</table>\n",
       "</div>"
      ],
      "text/plain": [
       "       RENDA_ANUAL(USD)          QI\n",
       "count         70.000000   70.000000\n",
       "mean       25978.285714   88.242857\n",
       "std        25709.529557   12.292847\n",
       "min          390.000000   56.000000\n",
       "25%         4135.000000   81.000000\n",
       "50%        14470.000000   91.000000\n",
       "75%        46145.000000   98.000000\n",
       "max        90600.000000  106.000000"
      ]
     },
     "execution_count": 5,
     "metadata": {},
     "output_type": "execute_result"
    }
   ],
   "source": [
    "# Estatísticas\n",
    "base_qi.describe()"
   ]
  },
  {
   "cell_type": "code",
   "execution_count": 6,
   "metadata": {},
   "outputs": [
    {
     "data": {
      "application/vnd.plotly.v1+json": {
       "config": {
        "plotlyServerURL": "https://plot.ly"
       },
       "data": [
        {
         "hovertemplate": "RENDA_ANUAL(USD)=%{x}<br>QI=%{y}<extra></extra>",
         "legendgroup": "",
         "marker": {
          "color": "#636efa",
          "symbol": "circle"
         },
         "mode": "markers",
         "name": "",
         "orientation": "v",
         "showlegend": false,
         "type": "scatter",
         "x": [
          90600,
          88190,
          83880,
          76110,
          70930,
          68300,
          64010,
          63460,
          59540,
          57170,
          55200,
          54460,
          53510,
          51660,
          50490,
          49290,
          48310,
          46450,
          45230,
          44480,
          44160,
          42650,
          41770,
          35990,
          35110,
          29690,
          23890,
          22580,
          21540,
          20000,
          16850,
          16080,
          14780,
          14160,
          13080,
          11880,
          11610,
          9960,
          9900,
          9590,
          8920,
          7740,
          7090,
          6530,
          6460,
          6190,
          5960,
          5740,
          5150,
          4180,
          4120,
          3620,
          3590,
          3550,
          3350,
          3290,
          3190,
          2570,
          2150,
          2080,
          1710,
          1580,
          1470,
          1140,
          760,
          550,
          480,
          390,
          30760,
          17630
         ],
         "xaxis": "x",
         "y": [
          100,
          100,
          98,
          95,
          97,
          98,
          106,
          99,
          98,
          99,
          101,
          106,
          101,
          100,
          98,
          93,
          100,
          100,
          99,
          99,
          97,
          106,
          82,
          95,
          103,
          95,
          93,
          82,
          77,
          91,
          96,
          89,
          88,
          88,
          83,
          104,
          96,
          87,
          87,
          87,
          84,
          83,
          106,
          69,
          81,
          83,
          79,
          84,
          56,
          80,
          91,
          71,
          91,
          83,
          78,
          79,
          58,
          75,
          77,
          68,
          72,
          97,
          81,
          74,
          62,
          64,
          71,
          81,
          91,
          95
         ],
         "yaxis": "y"
        },
        {
         "hovertemplate": "<b>OLS trendline</b><br>QI = 0.000324594 * RENDA_ANUAL(USD) + 79.8105<br>R<sup>2</sup>=0.460854<br><br>RENDA_ANUAL(USD)=%{x}<br>QI=%{y} <b>(trend)</b><extra></extra>",
         "legendgroup": "",
         "marker": {
          "color": "#636efa",
          "symbol": "circle"
         },
         "mode": "lines",
         "name": "",
         "showlegend": false,
         "type": "scatter",
         "x": [
          390,
          480,
          550,
          760,
          1140,
          1470,
          1580,
          1710,
          2080,
          2150,
          2570,
          3190,
          3290,
          3350,
          3550,
          3590,
          3620,
          4120,
          4180,
          5150,
          5740,
          5960,
          6190,
          6460,
          6530,
          7090,
          7740,
          8920,
          9590,
          9900,
          9960,
          11610,
          11880,
          13080,
          14160,
          14780,
          16080,
          16850,
          17630,
          20000,
          21540,
          22580,
          23890,
          29690,
          30760,
          35110,
          35990,
          41770,
          42650,
          44160,
          44480,
          45230,
          46450,
          48310,
          49290,
          50490,
          51660,
          53510,
          54460,
          55200,
          57170,
          59540,
          63460,
          64010,
          68300,
          70930,
          76110,
          83880,
          88190,
          90600
         ],
         "xaxis": "x",
         "y": [
          79.93706359283831,
          79.96627701603705,
          79.98899856741386,
          80.05716322154424,
          80.18050878616116,
          80.2876246712232,
          80.32332996624388,
          80.3655271330865,
          80.48562676179243,
          80.50834831316922,
          80.64467762143002,
          80.84592564791022,
          80.87838500701993,
          80.89786062248575,
          80.96277934070518,
          80.97576308434907,
          80.98550089208197,
          81.14779768763053,
          81.16727330309635,
          81.48212908646055,
          81.67363930520784,
          81.74504989524921,
          81.81970642120154,
          81.90734669079777,
          81.93006824217456,
          82.11184065318893,
          82.32282648740205,
          82.70584692489665,
          82.9233246309317,
          83.02394864417181,
          83.04342425963763,
          83.57900368494786,
          83.66664395454409,
          84.05615626386061,
          84.40671734224549,
          84.60796536872569,
          85.02993703715194,
          85.2798741022967,
          85.53305710335245,
          86.30234391425259,
          86.80221804454214,
          87.13979537928313,
          87.56501298362033,
          89.44765581198357,
          89.79497095445747,
          91.20695307572988,
          91.49259543589534,
          93.36874639243662,
          93.65438875260207,
          94.1445250751587,
          94.24839502430977,
          94.49184021763261,
          94.88784439877108,
          95.4915884782117,
          95.80969019748686,
          96.19920250680339,
          96.578977008387,
          97.17947515191665,
          97.4878390634589,
          97.72803832087077,
          98.36748769533207,
          99.13677450623221,
          100.40918138333288,
          100.58770785843629,
          101.98021436424287,
          102.83389550882826,
          104.51529031071128,
          107.0373825135358,
          108.43638089116433,
          109.21865144570836
         ],
         "yaxis": "y"
        }
       ],
       "layout": {
        "legend": {
         "tracegroupgap": 0
        },
        "margin": {
         "t": 60
        },
        "template": {
         "data": {
          "bar": [
           {
            "error_x": {
             "color": "#2a3f5f"
            },
            "error_y": {
             "color": "#2a3f5f"
            },
            "marker": {
             "line": {
              "color": "#E5ECF6",
              "width": 0.5
             },
             "pattern": {
              "fillmode": "overlay",
              "size": 10,
              "solidity": 0.2
             }
            },
            "type": "bar"
           }
          ],
          "barpolar": [
           {
            "marker": {
             "line": {
              "color": "#E5ECF6",
              "width": 0.5
             },
             "pattern": {
              "fillmode": "overlay",
              "size": 10,
              "solidity": 0.2
             }
            },
            "type": "barpolar"
           }
          ],
          "carpet": [
           {
            "aaxis": {
             "endlinecolor": "#2a3f5f",
             "gridcolor": "white",
             "linecolor": "white",
             "minorgridcolor": "white",
             "startlinecolor": "#2a3f5f"
            },
            "baxis": {
             "endlinecolor": "#2a3f5f",
             "gridcolor": "white",
             "linecolor": "white",
             "minorgridcolor": "white",
             "startlinecolor": "#2a3f5f"
            },
            "type": "carpet"
           }
          ],
          "choropleth": [
           {
            "colorbar": {
             "outlinewidth": 0,
             "ticks": ""
            },
            "type": "choropleth"
           }
          ],
          "contour": [
           {
            "colorbar": {
             "outlinewidth": 0,
             "ticks": ""
            },
            "colorscale": [
             [
              0,
              "#0d0887"
             ],
             [
              0.1111111111111111,
              "#46039f"
             ],
             [
              0.2222222222222222,
              "#7201a8"
             ],
             [
              0.3333333333333333,
              "#9c179e"
             ],
             [
              0.4444444444444444,
              "#bd3786"
             ],
             [
              0.5555555555555556,
              "#d8576b"
             ],
             [
              0.6666666666666666,
              "#ed7953"
             ],
             [
              0.7777777777777778,
              "#fb9f3a"
             ],
             [
              0.8888888888888888,
              "#fdca26"
             ],
             [
              1,
              "#f0f921"
             ]
            ],
            "type": "contour"
           }
          ],
          "contourcarpet": [
           {
            "colorbar": {
             "outlinewidth": 0,
             "ticks": ""
            },
            "type": "contourcarpet"
           }
          ],
          "heatmap": [
           {
            "colorbar": {
             "outlinewidth": 0,
             "ticks": ""
            },
            "colorscale": [
             [
              0,
              "#0d0887"
             ],
             [
              0.1111111111111111,
              "#46039f"
             ],
             [
              0.2222222222222222,
              "#7201a8"
             ],
             [
              0.3333333333333333,
              "#9c179e"
             ],
             [
              0.4444444444444444,
              "#bd3786"
             ],
             [
              0.5555555555555556,
              "#d8576b"
             ],
             [
              0.6666666666666666,
              "#ed7953"
             ],
             [
              0.7777777777777778,
              "#fb9f3a"
             ],
             [
              0.8888888888888888,
              "#fdca26"
             ],
             [
              1,
              "#f0f921"
             ]
            ],
            "type": "heatmap"
           }
          ],
          "heatmapgl": [
           {
            "colorbar": {
             "outlinewidth": 0,
             "ticks": ""
            },
            "colorscale": [
             [
              0,
              "#0d0887"
             ],
             [
              0.1111111111111111,
              "#46039f"
             ],
             [
              0.2222222222222222,
              "#7201a8"
             ],
             [
              0.3333333333333333,
              "#9c179e"
             ],
             [
              0.4444444444444444,
              "#bd3786"
             ],
             [
              0.5555555555555556,
              "#d8576b"
             ],
             [
              0.6666666666666666,
              "#ed7953"
             ],
             [
              0.7777777777777778,
              "#fb9f3a"
             ],
             [
              0.8888888888888888,
              "#fdca26"
             ],
             [
              1,
              "#f0f921"
             ]
            ],
            "type": "heatmapgl"
           }
          ],
          "histogram": [
           {
            "marker": {
             "pattern": {
              "fillmode": "overlay",
              "size": 10,
              "solidity": 0.2
             }
            },
            "type": "histogram"
           }
          ],
          "histogram2d": [
           {
            "colorbar": {
             "outlinewidth": 0,
             "ticks": ""
            },
            "colorscale": [
             [
              0,
              "#0d0887"
             ],
             [
              0.1111111111111111,
              "#46039f"
             ],
             [
              0.2222222222222222,
              "#7201a8"
             ],
             [
              0.3333333333333333,
              "#9c179e"
             ],
             [
              0.4444444444444444,
              "#bd3786"
             ],
             [
              0.5555555555555556,
              "#d8576b"
             ],
             [
              0.6666666666666666,
              "#ed7953"
             ],
             [
              0.7777777777777778,
              "#fb9f3a"
             ],
             [
              0.8888888888888888,
              "#fdca26"
             ],
             [
              1,
              "#f0f921"
             ]
            ],
            "type": "histogram2d"
           }
          ],
          "histogram2dcontour": [
           {
            "colorbar": {
             "outlinewidth": 0,
             "ticks": ""
            },
            "colorscale": [
             [
              0,
              "#0d0887"
             ],
             [
              0.1111111111111111,
              "#46039f"
             ],
             [
              0.2222222222222222,
              "#7201a8"
             ],
             [
              0.3333333333333333,
              "#9c179e"
             ],
             [
              0.4444444444444444,
              "#bd3786"
             ],
             [
              0.5555555555555556,
              "#d8576b"
             ],
             [
              0.6666666666666666,
              "#ed7953"
             ],
             [
              0.7777777777777778,
              "#fb9f3a"
             ],
             [
              0.8888888888888888,
              "#fdca26"
             ],
             [
              1,
              "#f0f921"
             ]
            ],
            "type": "histogram2dcontour"
           }
          ],
          "mesh3d": [
           {
            "colorbar": {
             "outlinewidth": 0,
             "ticks": ""
            },
            "type": "mesh3d"
           }
          ],
          "parcoords": [
           {
            "line": {
             "colorbar": {
              "outlinewidth": 0,
              "ticks": ""
             }
            },
            "type": "parcoords"
           }
          ],
          "pie": [
           {
            "automargin": true,
            "type": "pie"
           }
          ],
          "scatter": [
           {
            "marker": {
             "colorbar": {
              "outlinewidth": 0,
              "ticks": ""
             }
            },
            "type": "scatter"
           }
          ],
          "scatter3d": [
           {
            "line": {
             "colorbar": {
              "outlinewidth": 0,
              "ticks": ""
             }
            },
            "marker": {
             "colorbar": {
              "outlinewidth": 0,
              "ticks": ""
             }
            },
            "type": "scatter3d"
           }
          ],
          "scattercarpet": [
           {
            "marker": {
             "colorbar": {
              "outlinewidth": 0,
              "ticks": ""
             }
            },
            "type": "scattercarpet"
           }
          ],
          "scattergeo": [
           {
            "marker": {
             "colorbar": {
              "outlinewidth": 0,
              "ticks": ""
             }
            },
            "type": "scattergeo"
           }
          ],
          "scattergl": [
           {
            "marker": {
             "colorbar": {
              "outlinewidth": 0,
              "ticks": ""
             }
            },
            "type": "scattergl"
           }
          ],
          "scattermapbox": [
           {
            "marker": {
             "colorbar": {
              "outlinewidth": 0,
              "ticks": ""
             }
            },
            "type": "scattermapbox"
           }
          ],
          "scatterpolar": [
           {
            "marker": {
             "colorbar": {
              "outlinewidth": 0,
              "ticks": ""
             }
            },
            "type": "scatterpolar"
           }
          ],
          "scatterpolargl": [
           {
            "marker": {
             "colorbar": {
              "outlinewidth": 0,
              "ticks": ""
             }
            },
            "type": "scatterpolargl"
           }
          ],
          "scatterternary": [
           {
            "marker": {
             "colorbar": {
              "outlinewidth": 0,
              "ticks": ""
             }
            },
            "type": "scatterternary"
           }
          ],
          "surface": [
           {
            "colorbar": {
             "outlinewidth": 0,
             "ticks": ""
            },
            "colorscale": [
             [
              0,
              "#0d0887"
             ],
             [
              0.1111111111111111,
              "#46039f"
             ],
             [
              0.2222222222222222,
              "#7201a8"
             ],
             [
              0.3333333333333333,
              "#9c179e"
             ],
             [
              0.4444444444444444,
              "#bd3786"
             ],
             [
              0.5555555555555556,
              "#d8576b"
             ],
             [
              0.6666666666666666,
              "#ed7953"
             ],
             [
              0.7777777777777778,
              "#fb9f3a"
             ],
             [
              0.8888888888888888,
              "#fdca26"
             ],
             [
              1,
              "#f0f921"
             ]
            ],
            "type": "surface"
           }
          ],
          "table": [
           {
            "cells": {
             "fill": {
              "color": "#EBF0F8"
             },
             "line": {
              "color": "white"
             }
            },
            "header": {
             "fill": {
              "color": "#C8D4E3"
             },
             "line": {
              "color": "white"
             }
            },
            "type": "table"
           }
          ]
         },
         "layout": {
          "annotationdefaults": {
           "arrowcolor": "#2a3f5f",
           "arrowhead": 0,
           "arrowwidth": 1
          },
          "autotypenumbers": "strict",
          "coloraxis": {
           "colorbar": {
            "outlinewidth": 0,
            "ticks": ""
           }
          },
          "colorscale": {
           "diverging": [
            [
             0,
             "#8e0152"
            ],
            [
             0.1,
             "#c51b7d"
            ],
            [
             0.2,
             "#de77ae"
            ],
            [
             0.3,
             "#f1b6da"
            ],
            [
             0.4,
             "#fde0ef"
            ],
            [
             0.5,
             "#f7f7f7"
            ],
            [
             0.6,
             "#e6f5d0"
            ],
            [
             0.7,
             "#b8e186"
            ],
            [
             0.8,
             "#7fbc41"
            ],
            [
             0.9,
             "#4d9221"
            ],
            [
             1,
             "#276419"
            ]
           ],
           "sequential": [
            [
             0,
             "#0d0887"
            ],
            [
             0.1111111111111111,
             "#46039f"
            ],
            [
             0.2222222222222222,
             "#7201a8"
            ],
            [
             0.3333333333333333,
             "#9c179e"
            ],
            [
             0.4444444444444444,
             "#bd3786"
            ],
            [
             0.5555555555555556,
             "#d8576b"
            ],
            [
             0.6666666666666666,
             "#ed7953"
            ],
            [
             0.7777777777777778,
             "#fb9f3a"
            ],
            [
             0.8888888888888888,
             "#fdca26"
            ],
            [
             1,
             "#f0f921"
            ]
           ],
           "sequentialminus": [
            [
             0,
             "#0d0887"
            ],
            [
             0.1111111111111111,
             "#46039f"
            ],
            [
             0.2222222222222222,
             "#7201a8"
            ],
            [
             0.3333333333333333,
             "#9c179e"
            ],
            [
             0.4444444444444444,
             "#bd3786"
            ],
            [
             0.5555555555555556,
             "#d8576b"
            ],
            [
             0.6666666666666666,
             "#ed7953"
            ],
            [
             0.7777777777777778,
             "#fb9f3a"
            ],
            [
             0.8888888888888888,
             "#fdca26"
            ],
            [
             1,
             "#f0f921"
            ]
           ]
          },
          "colorway": [
           "#636efa",
           "#EF553B",
           "#00cc96",
           "#ab63fa",
           "#FFA15A",
           "#19d3f3",
           "#FF6692",
           "#B6E880",
           "#FF97FF",
           "#FECB52"
          ],
          "font": {
           "color": "#2a3f5f"
          },
          "geo": {
           "bgcolor": "white",
           "lakecolor": "white",
           "landcolor": "#E5ECF6",
           "showlakes": true,
           "showland": true,
           "subunitcolor": "white"
          },
          "hoverlabel": {
           "align": "left"
          },
          "hovermode": "closest",
          "mapbox": {
           "style": "light"
          },
          "paper_bgcolor": "white",
          "plot_bgcolor": "#E5ECF6",
          "polar": {
           "angularaxis": {
            "gridcolor": "white",
            "linecolor": "white",
            "ticks": ""
           },
           "bgcolor": "#E5ECF6",
           "radialaxis": {
            "gridcolor": "white",
            "linecolor": "white",
            "ticks": ""
           }
          },
          "scene": {
           "xaxis": {
            "backgroundcolor": "#E5ECF6",
            "gridcolor": "white",
            "gridwidth": 2,
            "linecolor": "white",
            "showbackground": true,
            "ticks": "",
            "zerolinecolor": "white"
           },
           "yaxis": {
            "backgroundcolor": "#E5ECF6",
            "gridcolor": "white",
            "gridwidth": 2,
            "linecolor": "white",
            "showbackground": true,
            "ticks": "",
            "zerolinecolor": "white"
           },
           "zaxis": {
            "backgroundcolor": "#E5ECF6",
            "gridcolor": "white",
            "gridwidth": 2,
            "linecolor": "white",
            "showbackground": true,
            "ticks": "",
            "zerolinecolor": "white"
           }
          },
          "shapedefaults": {
           "line": {
            "color": "#2a3f5f"
           }
          },
          "ternary": {
           "aaxis": {
            "gridcolor": "white",
            "linecolor": "white",
            "ticks": ""
           },
           "baxis": {
            "gridcolor": "white",
            "linecolor": "white",
            "ticks": ""
           },
           "bgcolor": "#E5ECF6",
           "caxis": {
            "gridcolor": "white",
            "linecolor": "white",
            "ticks": ""
           }
          },
          "title": {
           "x": 0.05
          },
          "xaxis": {
           "automargin": true,
           "gridcolor": "white",
           "linecolor": "white",
           "ticks": "",
           "title": {
            "standoff": 15
           },
           "zerolinecolor": "white",
           "zerolinewidth": 2
          },
          "yaxis": {
           "automargin": true,
           "gridcolor": "white",
           "linecolor": "white",
           "ticks": "",
           "title": {
            "standoff": 15
           },
           "zerolinecolor": "white",
           "zerolinewidth": 2
          }
         }
        },
        "xaxis": {
         "anchor": "y",
         "domain": [
          0,
          1
         ],
         "title": {
          "text": "RENDA_ANUAL(USD)"
         }
        },
        "yaxis": {
         "anchor": "x",
         "domain": [
          0,
          1
         ],
         "title": {
          "text": "QI"
         }
        }
       }
      }
     },
     "metadata": {},
     "output_type": "display_data"
    }
   ],
   "source": [
    "# Relação entre Renda e QI\n",
    "# Gráfico interativo com plotly\n",
    "fig = px.scatter(base_qi, x='RENDA_ANUAL(USD)', y='QI', trendline='ols')\n",
    "fig.show()"
   ]
  },
  {
   "attachments": {},
   "cell_type": "markdown",
   "metadata": {},
   "source": [
    "Pelo gráfico acima a um primeiro olhar podemos afirmar que o qi aumenta conforme maior a renda anual do país, mas se observarmos bem, o aumento da renda anual não necessariamente implica no maior qi médio da população haja visto que temos um ponto no gráfico com Qi = 106 e com renda anual = 64 K e temos um ponto com QI = 106 e renda anual = 7.090 K. "
   ]
  },
  {
   "cell_type": "code",
   "execution_count": 7,
   "metadata": {},
   "outputs": [
    {
     "data": {
      "text/plain": [
       "42    106\n",
       "21    106\n",
       "6     106\n",
       "11    106\n",
       "35    104\n",
       "Name: QI, dtype: int64"
      ]
     },
     "execution_count": 7,
     "metadata": {},
     "output_type": "execute_result"
    }
   ],
   "source": [
    "# 5 Países com maiores QIs\n",
    "paises_maiores_qis = base_qi['QI'].sort_values(ascending=False).head(5)\n",
    "paises_maiores_qis"
   ]
  },
  {
   "cell_type": "code",
   "execution_count": 27,
   "metadata": {},
   "outputs": [
    {
     "name": "stdout",
     "output_type": "stream",
     "text": [
      "Tailândia \n",
      " Japão \n",
      " Cingapura \n",
      " Hong Kong  \n",
      " China\n"
     ]
    }
   ],
   "source": [
    "# Impriminodo os 5 países com os maiores QIs\n",
    "print(base_qi.iloc[42]['PAIS'], '\\n',base_qi.iloc[21]['PAIS'],'\\n',base_qi.iloc[6]['PAIS'],'\\n',base_qi.iloc[11]['PAIS'],'\\n',base_qi.iloc[35]['PAIS'])"
   ]
  },
  {
   "cell_type": "code",
   "execution_count": 39,
   "metadata": {},
   "outputs": [
    {
     "name": "stdout",
     "output_type": "stream",
     "text": [
      "      PAIS  RENDA_ANUAL(USD)  QI\n",
      "41  Brasil              7740  83\n"
     ]
    }
   ],
   "source": [
    "# E o Brasil?\n",
    "# Qual a renda anual e o Qi médio?\n",
    "print(base_qi.loc[base_qi['PAIS'] == 'Brasil'])"
   ]
  },
  {
   "cell_type": "code",
   "execution_count": 41,
   "metadata": {},
   "outputs": [
    {
     "data": {
      "application/vnd.plotly.v1+json": {
       "config": {
        "plotlyServerURL": "https://plot.ly"
       },
       "data": [
        {
         "branchvalues": "total",
         "domain": {
          "x": [
           0,
           1
          ],
          "y": [
           0,
           1
          ]
         },
         "hovertemplate": "labels=%{label}<br>count=%{value}<br>parent=%{parent}<br>id=%{id}<extra></extra>",
         "ids": [
          "390/81/Afeganistão",
          "51660/100/Alemanha",
          "1710/72/Angola",
          "9960/87/Argentina",
          "21540/77/Arábia Saudita",
          "57170/99/Austrália",
          "2570/75/Bangladesh",
          "3290/79/Bolívia",
          "7740/83/Brasil",
          "50490/98/Bélgica",
          "3190/58/Cabo Verde",
          "1580/97/Camboja",
          "48310/100/Canadá",
          "14780/88/Chile",
          "11880/104/China",
          "64010/106/Cingapura",
          "6190/83/Colômbia",
          "550/64/Congo (dem. rep.)",
          "35110/103/Coréia do Sul",
          "17630/95/Croácia",
          "8920/84/Cuba",
          "68300/98/Dinamarca",
          "3350/78/Egito",
          "41770/82/Emirados Árabes",
          "5960/79/Equador",
          "29690/95/Espanha",
          "3550/83/Filipinas",
          "53510/101/Finlândia",
          "44160/97/França",
          "20000/91/Grécia",
          "5150/56/Guiné Equatorial",
          "760/62/Guiné-Bissau",
          "54460/106/Hong Kong ",
          "4180/80/Indonésia",
          "76110/95/Irlanda",
          "63460/99/Islândia",
          "49290/93/Israel",
          "35990/95/Itália",
          "42650/106/Japão",
          "88190/100/Luxemburgo",
          "46450/100/Macau ",
          "30760/91/Malta",
          "3620/71/Marrocos",
          "480/71/Moçambique",
          "9590/87/México",
          "2080/68/Nigéria",
          "83880/98/Noruega",
          "45230/99/Nova Zelândia",
          "1470/81/Paquistão",
          "5740/84/Paraguai",
          "55200/101/Países Baixos",
          "6460/81/Peru",
          "16850/96/Polônia",
          "22580/82/Porto Rico ",
          "23890/93/Portugal",
          "44480/99/Reino Unido",
          "14160/88/Romênia",
          "11610/96/Rússia",
          "59540/98/Suécia",
          "90600/100/Suíça",
          "7090/106/Tailândia",
          "1140/74/Timor Leste",
          "9900/87/Turquia",
          "70930/97/USA",
          "4120/91/Ucrânia",
          "16080/89/Uruguai",
          "13080/83/Venezuela",
          "3590/91/Vietnã",
          "6530/69/África do Sul",
          "2150/77/Índia",
          "5150/56",
          "3190/58",
          "760/62",
          "550/64",
          "2080/68",
          "6530/69",
          "480/71",
          "3620/71",
          "1710/72",
          "1140/74",
          "2570/75",
          "2150/77",
          "21540/77",
          "3350/78",
          "3290/79",
          "5960/79",
          "4180/80",
          "390/81",
          "1470/81",
          "6460/81",
          "22580/82",
          "41770/82",
          "3550/83",
          "6190/83",
          "7740/83",
          "13080/83",
          "5740/84",
          "8920/84",
          "9590/87",
          "9900/87",
          "9960/87",
          "14160/88",
          "14780/88",
          "16080/89",
          "3590/91",
          "4120/91",
          "20000/91",
          "30760/91",
          "23890/93",
          "49290/93",
          "17630/95",
          "29690/95",
          "35990/95",
          "76110/95",
          "11610/96",
          "16850/96",
          "1580/97",
          "44160/97",
          "70930/97",
          "50490/98",
          "59540/98",
          "68300/98",
          "83880/98",
          "44480/99",
          "45230/99",
          "57170/99",
          "63460/99",
          "46450/100",
          "48310/100",
          "51660/100",
          "88190/100",
          "90600/100",
          "53510/101",
          "55200/101",
          "35110/103",
          "11880/104",
          "7090/106",
          "42650/106",
          "54460/106",
          "64010/106",
          "390",
          "480",
          "550",
          "760",
          "1140",
          "1470",
          "1580",
          "1710",
          "2080",
          "2150",
          "2570",
          "3190",
          "3290",
          "3350",
          "3550",
          "3590",
          "3620",
          "4120",
          "4180",
          "5150",
          "5740",
          "5960",
          "6190",
          "6460",
          "6530",
          "7090",
          "7740",
          "8920",
          "9590",
          "9900",
          "9960",
          "11610",
          "11880",
          "13080",
          "14160",
          "14780",
          "16080",
          "16850",
          "17630",
          "20000",
          "21540",
          "22580",
          "23890",
          "29690",
          "30760",
          "35110",
          "35990",
          "41770",
          "42650",
          "44160",
          "44480",
          "45230",
          "46450",
          "48310",
          "49290",
          "50490",
          "51660",
          "53510",
          "54460",
          "55200",
          "57170",
          "59540",
          "63460",
          "64010",
          "68300",
          "70930",
          "76110",
          "83880",
          "88190",
          "90600"
         ],
         "labels": [
          "Afeganistão",
          "Alemanha",
          "Angola",
          "Argentina",
          "Arábia Saudita",
          "Austrália",
          "Bangladesh",
          "Bolívia",
          "Brasil",
          "Bélgica",
          "Cabo Verde",
          "Camboja",
          "Canadá",
          "Chile",
          "China",
          "Cingapura",
          "Colômbia",
          "Congo (dem. rep.)",
          "Coréia do Sul",
          "Croácia",
          "Cuba",
          "Dinamarca",
          "Egito",
          "Emirados Árabes",
          "Equador",
          "Espanha",
          "Filipinas",
          "Finlândia",
          "França",
          "Grécia",
          "Guiné Equatorial",
          "Guiné-Bissau",
          "Hong Kong ",
          "Indonésia",
          "Irlanda",
          "Islândia",
          "Israel",
          "Itália",
          "Japão",
          "Luxemburgo",
          "Macau ",
          "Malta",
          "Marrocos",
          "Moçambique",
          "México",
          "Nigéria",
          "Noruega",
          "Nova Zelândia",
          "Paquistão",
          "Paraguai",
          "Países Baixos",
          "Peru",
          "Polônia",
          "Porto Rico ",
          "Portugal",
          "Reino Unido",
          "Romênia",
          "Rússia",
          "Suécia",
          "Suíça",
          "Tailândia",
          "Timor Leste",
          "Turquia",
          "USA",
          "Ucrânia",
          "Uruguai",
          "Venezuela",
          "Vietnã",
          "África do Sul",
          "Índia",
          "56",
          "58",
          "62",
          "64",
          "68",
          "69",
          "71",
          "71",
          "72",
          "74",
          "75",
          "77",
          "77",
          "78",
          "79",
          "79",
          "80",
          "81",
          "81",
          "81",
          "82",
          "82",
          "83",
          "83",
          "83",
          "83",
          "84",
          "84",
          "87",
          "87",
          "87",
          "88",
          "88",
          "89",
          "91",
          "91",
          "91",
          "91",
          "93",
          "93",
          "95",
          "95",
          "95",
          "95",
          "96",
          "96",
          "97",
          "97",
          "97",
          "98",
          "98",
          "98",
          "98",
          "99",
          "99",
          "99",
          "99",
          "100",
          "100",
          "100",
          "100",
          "100",
          "101",
          "101",
          "103",
          "104",
          "106",
          "106",
          "106",
          "106",
          "390",
          "480",
          "550",
          "760",
          "1140",
          "1470",
          "1580",
          "1710",
          "2080",
          "2150",
          "2570",
          "3190",
          "3290",
          "3350",
          "3550",
          "3590",
          "3620",
          "4120",
          "4180",
          "5150",
          "5740",
          "5960",
          "6190",
          "6460",
          "6530",
          "7090",
          "7740",
          "8920",
          "9590",
          "9900",
          "9960",
          "11610",
          "11880",
          "13080",
          "14160",
          "14780",
          "16080",
          "16850",
          "17630",
          "20000",
          "21540",
          "22580",
          "23890",
          "29690",
          "30760",
          "35110",
          "35990",
          "41770",
          "42650",
          "44160",
          "44480",
          "45230",
          "46450",
          "48310",
          "49290",
          "50490",
          "51660",
          "53510",
          "54460",
          "55200",
          "57170",
          "59540",
          "63460",
          "64010",
          "68300",
          "70930",
          "76110",
          "83880",
          "88190",
          "90600"
         ],
         "name": "",
         "parents": [
          "390/81",
          "51660/100",
          "1710/72",
          "9960/87",
          "21540/77",
          "57170/99",
          "2570/75",
          "3290/79",
          "7740/83",
          "50490/98",
          "3190/58",
          "1580/97",
          "48310/100",
          "14780/88",
          "11880/104",
          "64010/106",
          "6190/83",
          "550/64",
          "35110/103",
          "17630/95",
          "8920/84",
          "68300/98",
          "3350/78",
          "41770/82",
          "5960/79",
          "29690/95",
          "3550/83",
          "53510/101",
          "44160/97",
          "20000/91",
          "5150/56",
          "760/62",
          "54460/106",
          "4180/80",
          "76110/95",
          "63460/99",
          "49290/93",
          "35990/95",
          "42650/106",
          "88190/100",
          "46450/100",
          "30760/91",
          "3620/71",
          "480/71",
          "9590/87",
          "2080/68",
          "83880/98",
          "45230/99",
          "1470/81",
          "5740/84",
          "55200/101",
          "6460/81",
          "16850/96",
          "22580/82",
          "23890/93",
          "44480/99",
          "14160/88",
          "11610/96",
          "59540/98",
          "90600/100",
          "7090/106",
          "1140/74",
          "9900/87",
          "70930/97",
          "4120/91",
          "16080/89",
          "13080/83",
          "3590/91",
          "6530/69",
          "2150/77",
          "5150",
          "3190",
          "760",
          "550",
          "2080",
          "6530",
          "480",
          "3620",
          "1710",
          "1140",
          "2570",
          "2150",
          "21540",
          "3350",
          "3290",
          "5960",
          "4180",
          "390",
          "1470",
          "6460",
          "22580",
          "41770",
          "3550",
          "6190",
          "7740",
          "13080",
          "5740",
          "8920",
          "9590",
          "9900",
          "9960",
          "14160",
          "14780",
          "16080",
          "3590",
          "4120",
          "20000",
          "30760",
          "23890",
          "49290",
          "17630",
          "29690",
          "35990",
          "76110",
          "11610",
          "16850",
          "1580",
          "44160",
          "70930",
          "50490",
          "59540",
          "68300",
          "83880",
          "44480",
          "45230",
          "57170",
          "63460",
          "46450",
          "48310",
          "51660",
          "88190",
          "90600",
          "53510",
          "55200",
          "35110",
          "11880",
          "7090",
          "42650",
          "54460",
          "64010",
          "",
          "",
          "",
          "",
          "",
          "",
          "",
          "",
          "",
          "",
          "",
          "",
          "",
          "",
          "",
          "",
          "",
          "",
          "",
          "",
          "",
          "",
          "",
          "",
          "",
          "",
          "",
          "",
          "",
          "",
          "",
          "",
          "",
          "",
          "",
          "",
          "",
          "",
          "",
          "",
          "",
          "",
          "",
          "",
          "",
          "",
          "",
          "",
          "",
          "",
          "",
          "",
          "",
          "",
          "",
          "",
          "",
          "",
          "",
          "",
          "",
          "",
          "",
          "",
          "",
          "",
          "",
          "",
          "",
          ""
         ],
         "type": "treemap",
         "values": [
          1,
          1,
          1,
          1,
          1,
          1,
          1,
          1,
          1,
          1,
          1,
          1,
          1,
          1,
          1,
          1,
          1,
          1,
          1,
          1,
          1,
          1,
          1,
          1,
          1,
          1,
          1,
          1,
          1,
          1,
          1,
          1,
          1,
          1,
          1,
          1,
          1,
          1,
          1,
          1,
          1,
          1,
          1,
          1,
          1,
          1,
          1,
          1,
          1,
          1,
          1,
          1,
          1,
          1,
          1,
          1,
          1,
          1,
          1,
          1,
          1,
          1,
          1,
          1,
          1,
          1,
          1,
          1,
          1,
          1,
          1,
          1,
          1,
          1,
          1,
          1,
          1,
          1,
          1,
          1,
          1,
          1,
          1,
          1,
          1,
          1,
          1,
          1,
          1,
          1,
          1,
          1,
          1,
          1,
          1,
          1,
          1,
          1,
          1,
          1,
          1,
          1,
          1,
          1,
          1,
          1,
          1,
          1,
          1,
          1,
          1,
          1,
          1,
          1,
          1,
          1,
          1,
          1,
          1,
          1,
          1,
          1,
          1,
          1,
          1,
          1,
          1,
          1,
          1,
          1,
          1,
          1,
          1,
          1,
          1,
          1,
          1,
          1,
          1,
          1,
          1,
          1,
          1,
          1,
          1,
          1,
          1,
          1,
          1,
          1,
          1,
          1,
          1,
          1,
          1,
          1,
          1,
          1,
          1,
          1,
          1,
          1,
          1,
          1,
          1,
          1,
          1,
          1,
          1,
          1,
          1,
          1,
          1,
          1,
          1,
          1,
          1,
          1,
          1,
          1,
          1,
          1,
          1,
          1,
          1,
          1,
          1,
          1,
          1,
          1,
          1,
          1,
          1,
          1,
          1,
          1,
          1,
          1,
          1,
          1,
          1,
          1,
          1,
          1,
          1,
          1,
          1,
          1,
          1,
          1
         ]
        }
       ],
       "layout": {
        "legend": {
         "tracegroupgap": 0
        },
        "margin": {
         "t": 60
        },
        "template": {
         "data": {
          "bar": [
           {
            "error_x": {
             "color": "#2a3f5f"
            },
            "error_y": {
             "color": "#2a3f5f"
            },
            "marker": {
             "line": {
              "color": "#E5ECF6",
              "width": 0.5
             },
             "pattern": {
              "fillmode": "overlay",
              "size": 10,
              "solidity": 0.2
             }
            },
            "type": "bar"
           }
          ],
          "barpolar": [
           {
            "marker": {
             "line": {
              "color": "#E5ECF6",
              "width": 0.5
             },
             "pattern": {
              "fillmode": "overlay",
              "size": 10,
              "solidity": 0.2
             }
            },
            "type": "barpolar"
           }
          ],
          "carpet": [
           {
            "aaxis": {
             "endlinecolor": "#2a3f5f",
             "gridcolor": "white",
             "linecolor": "white",
             "minorgridcolor": "white",
             "startlinecolor": "#2a3f5f"
            },
            "baxis": {
             "endlinecolor": "#2a3f5f",
             "gridcolor": "white",
             "linecolor": "white",
             "minorgridcolor": "white",
             "startlinecolor": "#2a3f5f"
            },
            "type": "carpet"
           }
          ],
          "choropleth": [
           {
            "colorbar": {
             "outlinewidth": 0,
             "ticks": ""
            },
            "type": "choropleth"
           }
          ],
          "contour": [
           {
            "colorbar": {
             "outlinewidth": 0,
             "ticks": ""
            },
            "colorscale": [
             [
              0,
              "#0d0887"
             ],
             [
              0.1111111111111111,
              "#46039f"
             ],
             [
              0.2222222222222222,
              "#7201a8"
             ],
             [
              0.3333333333333333,
              "#9c179e"
             ],
             [
              0.4444444444444444,
              "#bd3786"
             ],
             [
              0.5555555555555556,
              "#d8576b"
             ],
             [
              0.6666666666666666,
              "#ed7953"
             ],
             [
              0.7777777777777778,
              "#fb9f3a"
             ],
             [
              0.8888888888888888,
              "#fdca26"
             ],
             [
              1,
              "#f0f921"
             ]
            ],
            "type": "contour"
           }
          ],
          "contourcarpet": [
           {
            "colorbar": {
             "outlinewidth": 0,
             "ticks": ""
            },
            "type": "contourcarpet"
           }
          ],
          "heatmap": [
           {
            "colorbar": {
             "outlinewidth": 0,
             "ticks": ""
            },
            "colorscale": [
             [
              0,
              "#0d0887"
             ],
             [
              0.1111111111111111,
              "#46039f"
             ],
             [
              0.2222222222222222,
              "#7201a8"
             ],
             [
              0.3333333333333333,
              "#9c179e"
             ],
             [
              0.4444444444444444,
              "#bd3786"
             ],
             [
              0.5555555555555556,
              "#d8576b"
             ],
             [
              0.6666666666666666,
              "#ed7953"
             ],
             [
              0.7777777777777778,
              "#fb9f3a"
             ],
             [
              0.8888888888888888,
              "#fdca26"
             ],
             [
              1,
              "#f0f921"
             ]
            ],
            "type": "heatmap"
           }
          ],
          "heatmapgl": [
           {
            "colorbar": {
             "outlinewidth": 0,
             "ticks": ""
            },
            "colorscale": [
             [
              0,
              "#0d0887"
             ],
             [
              0.1111111111111111,
              "#46039f"
             ],
             [
              0.2222222222222222,
              "#7201a8"
             ],
             [
              0.3333333333333333,
              "#9c179e"
             ],
             [
              0.4444444444444444,
              "#bd3786"
             ],
             [
              0.5555555555555556,
              "#d8576b"
             ],
             [
              0.6666666666666666,
              "#ed7953"
             ],
             [
              0.7777777777777778,
              "#fb9f3a"
             ],
             [
              0.8888888888888888,
              "#fdca26"
             ],
             [
              1,
              "#f0f921"
             ]
            ],
            "type": "heatmapgl"
           }
          ],
          "histogram": [
           {
            "marker": {
             "pattern": {
              "fillmode": "overlay",
              "size": 10,
              "solidity": 0.2
             }
            },
            "type": "histogram"
           }
          ],
          "histogram2d": [
           {
            "colorbar": {
             "outlinewidth": 0,
             "ticks": ""
            },
            "colorscale": [
             [
              0,
              "#0d0887"
             ],
             [
              0.1111111111111111,
              "#46039f"
             ],
             [
              0.2222222222222222,
              "#7201a8"
             ],
             [
              0.3333333333333333,
              "#9c179e"
             ],
             [
              0.4444444444444444,
              "#bd3786"
             ],
             [
              0.5555555555555556,
              "#d8576b"
             ],
             [
              0.6666666666666666,
              "#ed7953"
             ],
             [
              0.7777777777777778,
              "#fb9f3a"
             ],
             [
              0.8888888888888888,
              "#fdca26"
             ],
             [
              1,
              "#f0f921"
             ]
            ],
            "type": "histogram2d"
           }
          ],
          "histogram2dcontour": [
           {
            "colorbar": {
             "outlinewidth": 0,
             "ticks": ""
            },
            "colorscale": [
             [
              0,
              "#0d0887"
             ],
             [
              0.1111111111111111,
              "#46039f"
             ],
             [
              0.2222222222222222,
              "#7201a8"
             ],
             [
              0.3333333333333333,
              "#9c179e"
             ],
             [
              0.4444444444444444,
              "#bd3786"
             ],
             [
              0.5555555555555556,
              "#d8576b"
             ],
             [
              0.6666666666666666,
              "#ed7953"
             ],
             [
              0.7777777777777778,
              "#fb9f3a"
             ],
             [
              0.8888888888888888,
              "#fdca26"
             ],
             [
              1,
              "#f0f921"
             ]
            ],
            "type": "histogram2dcontour"
           }
          ],
          "mesh3d": [
           {
            "colorbar": {
             "outlinewidth": 0,
             "ticks": ""
            },
            "type": "mesh3d"
           }
          ],
          "parcoords": [
           {
            "line": {
             "colorbar": {
              "outlinewidth": 0,
              "ticks": ""
             }
            },
            "type": "parcoords"
           }
          ],
          "pie": [
           {
            "automargin": true,
            "type": "pie"
           }
          ],
          "scatter": [
           {
            "marker": {
             "colorbar": {
              "outlinewidth": 0,
              "ticks": ""
             }
            },
            "type": "scatter"
           }
          ],
          "scatter3d": [
           {
            "line": {
             "colorbar": {
              "outlinewidth": 0,
              "ticks": ""
             }
            },
            "marker": {
             "colorbar": {
              "outlinewidth": 0,
              "ticks": ""
             }
            },
            "type": "scatter3d"
           }
          ],
          "scattercarpet": [
           {
            "marker": {
             "colorbar": {
              "outlinewidth": 0,
              "ticks": ""
             }
            },
            "type": "scattercarpet"
           }
          ],
          "scattergeo": [
           {
            "marker": {
             "colorbar": {
              "outlinewidth": 0,
              "ticks": ""
             }
            },
            "type": "scattergeo"
           }
          ],
          "scattergl": [
           {
            "marker": {
             "colorbar": {
              "outlinewidth": 0,
              "ticks": ""
             }
            },
            "type": "scattergl"
           }
          ],
          "scattermapbox": [
           {
            "marker": {
             "colorbar": {
              "outlinewidth": 0,
              "ticks": ""
             }
            },
            "type": "scattermapbox"
           }
          ],
          "scatterpolar": [
           {
            "marker": {
             "colorbar": {
              "outlinewidth": 0,
              "ticks": ""
             }
            },
            "type": "scatterpolar"
           }
          ],
          "scatterpolargl": [
           {
            "marker": {
             "colorbar": {
              "outlinewidth": 0,
              "ticks": ""
             }
            },
            "type": "scatterpolargl"
           }
          ],
          "scatterternary": [
           {
            "marker": {
             "colorbar": {
              "outlinewidth": 0,
              "ticks": ""
             }
            },
            "type": "scatterternary"
           }
          ],
          "surface": [
           {
            "colorbar": {
             "outlinewidth": 0,
             "ticks": ""
            },
            "colorscale": [
             [
              0,
              "#0d0887"
             ],
             [
              0.1111111111111111,
              "#46039f"
             ],
             [
              0.2222222222222222,
              "#7201a8"
             ],
             [
              0.3333333333333333,
              "#9c179e"
             ],
             [
              0.4444444444444444,
              "#bd3786"
             ],
             [
              0.5555555555555556,
              "#d8576b"
             ],
             [
              0.6666666666666666,
              "#ed7953"
             ],
             [
              0.7777777777777778,
              "#fb9f3a"
             ],
             [
              0.8888888888888888,
              "#fdca26"
             ],
             [
              1,
              "#f0f921"
             ]
            ],
            "type": "surface"
           }
          ],
          "table": [
           {
            "cells": {
             "fill": {
              "color": "#EBF0F8"
             },
             "line": {
              "color": "white"
             }
            },
            "header": {
             "fill": {
              "color": "#C8D4E3"
             },
             "line": {
              "color": "white"
             }
            },
            "type": "table"
           }
          ]
         },
         "layout": {
          "annotationdefaults": {
           "arrowcolor": "#2a3f5f",
           "arrowhead": 0,
           "arrowwidth": 1
          },
          "autotypenumbers": "strict",
          "coloraxis": {
           "colorbar": {
            "outlinewidth": 0,
            "ticks": ""
           }
          },
          "colorscale": {
           "diverging": [
            [
             0,
             "#8e0152"
            ],
            [
             0.1,
             "#c51b7d"
            ],
            [
             0.2,
             "#de77ae"
            ],
            [
             0.3,
             "#f1b6da"
            ],
            [
             0.4,
             "#fde0ef"
            ],
            [
             0.5,
             "#f7f7f7"
            ],
            [
             0.6,
             "#e6f5d0"
            ],
            [
             0.7,
             "#b8e186"
            ],
            [
             0.8,
             "#7fbc41"
            ],
            [
             0.9,
             "#4d9221"
            ],
            [
             1,
             "#276419"
            ]
           ],
           "sequential": [
            [
             0,
             "#0d0887"
            ],
            [
             0.1111111111111111,
             "#46039f"
            ],
            [
             0.2222222222222222,
             "#7201a8"
            ],
            [
             0.3333333333333333,
             "#9c179e"
            ],
            [
             0.4444444444444444,
             "#bd3786"
            ],
            [
             0.5555555555555556,
             "#d8576b"
            ],
            [
             0.6666666666666666,
             "#ed7953"
            ],
            [
             0.7777777777777778,
             "#fb9f3a"
            ],
            [
             0.8888888888888888,
             "#fdca26"
            ],
            [
             1,
             "#f0f921"
            ]
           ],
           "sequentialminus": [
            [
             0,
             "#0d0887"
            ],
            [
             0.1111111111111111,
             "#46039f"
            ],
            [
             0.2222222222222222,
             "#7201a8"
            ],
            [
             0.3333333333333333,
             "#9c179e"
            ],
            [
             0.4444444444444444,
             "#bd3786"
            ],
            [
             0.5555555555555556,
             "#d8576b"
            ],
            [
             0.6666666666666666,
             "#ed7953"
            ],
            [
             0.7777777777777778,
             "#fb9f3a"
            ],
            [
             0.8888888888888888,
             "#fdca26"
            ],
            [
             1,
             "#f0f921"
            ]
           ]
          },
          "colorway": [
           "#636efa",
           "#EF553B",
           "#00cc96",
           "#ab63fa",
           "#FFA15A",
           "#19d3f3",
           "#FF6692",
           "#B6E880",
           "#FF97FF",
           "#FECB52"
          ],
          "font": {
           "color": "#2a3f5f"
          },
          "geo": {
           "bgcolor": "white",
           "lakecolor": "white",
           "landcolor": "#E5ECF6",
           "showlakes": true,
           "showland": true,
           "subunitcolor": "white"
          },
          "hoverlabel": {
           "align": "left"
          },
          "hovermode": "closest",
          "mapbox": {
           "style": "light"
          },
          "paper_bgcolor": "white",
          "plot_bgcolor": "#E5ECF6",
          "polar": {
           "angularaxis": {
            "gridcolor": "white",
            "linecolor": "white",
            "ticks": ""
           },
           "bgcolor": "#E5ECF6",
           "radialaxis": {
            "gridcolor": "white",
            "linecolor": "white",
            "ticks": ""
           }
          },
          "scene": {
           "xaxis": {
            "backgroundcolor": "#E5ECF6",
            "gridcolor": "white",
            "gridwidth": 2,
            "linecolor": "white",
            "showbackground": true,
            "ticks": "",
            "zerolinecolor": "white"
           },
           "yaxis": {
            "backgroundcolor": "#E5ECF6",
            "gridcolor": "white",
            "gridwidth": 2,
            "linecolor": "white",
            "showbackground": true,
            "ticks": "",
            "zerolinecolor": "white"
           },
           "zaxis": {
            "backgroundcolor": "#E5ECF6",
            "gridcolor": "white",
            "gridwidth": 2,
            "linecolor": "white",
            "showbackground": true,
            "ticks": "",
            "zerolinecolor": "white"
           }
          },
          "shapedefaults": {
           "line": {
            "color": "#2a3f5f"
           }
          },
          "ternary": {
           "aaxis": {
            "gridcolor": "white",
            "linecolor": "white",
            "ticks": ""
           },
           "baxis": {
            "gridcolor": "white",
            "linecolor": "white",
            "ticks": ""
           },
           "bgcolor": "#E5ECF6",
           "caxis": {
            "gridcolor": "white",
            "linecolor": "white",
            "ticks": ""
           }
          },
          "title": {
           "x": 0.05
          },
          "xaxis": {
           "automargin": true,
           "gridcolor": "white",
           "linecolor": "white",
           "ticks": "",
           "title": {
            "standoff": 15
           },
           "zerolinecolor": "white",
           "zerolinewidth": 2
          },
          "yaxis": {
           "automargin": true,
           "gridcolor": "white",
           "linecolor": "white",
           "ticks": "",
           "title": {
            "standoff": 15
           },
           "zerolinecolor": "white",
           "zerolinewidth": 2
          }
         }
        }
       }
      }
     },
     "metadata": {},
     "output_type": "display_data"
    }
   ],
   "source": [
    "# Criando um mapa interativo entre renda, qi e País\n",
    "grafico = px.treemap(base_qi, path=['RENDA_ANUAL(USD)', 'QI', 'PAIS'])\n",
    "grafico.show()"
   ]
  }
 ],
 "metadata": {
  "kernelspec": {
   "display_name": "Python 3",
   "language": "python",
   "name": "python3"
  },
  "language_info": {
   "codemirror_mode": {
    "name": "ipython",
    "version": 3
   },
   "file_extension": ".py",
   "mimetype": "text/x-python",
   "name": "python",
   "nbconvert_exporter": "python",
   "pygments_lexer": "ipython3",
   "version": "3.10.1"
  },
  "orig_nbformat": 4
 },
 "nbformat": 4,
 "nbformat_minor": 2
}
